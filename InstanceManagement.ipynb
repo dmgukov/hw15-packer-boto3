{
 "cells": [
  {
   "cell_type": "code",
   "execution_count": null,
   "id": "0ca42b64-39af-4284-974a-2c59500ae4da",
   "metadata": {},
   "outputs": [],
   "source": [
    "*** Installing dependencies ***"
   ]
  },
  {
   "cell_type": "code",
   "execution_count": 17,
   "id": "bacdec49-1080-49f2-af82-c3353946c7e2",
   "metadata": {
    "tags": []
   },
   "outputs": [
    {
     "name": "stdout",
     "output_type": "stream",
     "text": [
      "Requirement already satisfied: requests in /opt/conda/lib/python3.10/site-packages (from -r requirements.txt (line 1)) (2.28.2)\n",
      "Requirement already satisfied: boto3 in /opt/conda/lib/python3.10/site-packages (from -r requirements.txt (line 2)) (1.26.121)\n",
      "Requirement already satisfied: charset-normalizer<4,>=2 in /opt/conda/lib/python3.10/site-packages (from requests->-r requirements.txt (line 1)) (3.1.0)\n",
      "Requirement already satisfied: idna<4,>=2.5 in /opt/conda/lib/python3.10/site-packages (from requests->-r requirements.txt (line 1)) (3.4)\n",
      "Requirement already satisfied: urllib3<1.27,>=1.21.1 in /opt/conda/lib/python3.10/site-packages (from requests->-r requirements.txt (line 1)) (1.26.15)\n",
      "Requirement already satisfied: certifi>=2017.4.17 in /opt/conda/lib/python3.10/site-packages (from requests->-r requirements.txt (line 1)) (2022.12.7)\n",
      "Requirement already satisfied: botocore<1.30.0,>=1.29.121 in /opt/conda/lib/python3.10/site-packages (from boto3->-r requirements.txt (line 2)) (1.29.121)\n",
      "Requirement already satisfied: jmespath<2.0.0,>=0.7.1 in /opt/conda/lib/python3.10/site-packages (from boto3->-r requirements.txt (line 2)) (1.0.1)\n",
      "Requirement already satisfied: s3transfer<0.7.0,>=0.6.0 in /opt/conda/lib/python3.10/site-packages (from boto3->-r requirements.txt (line 2)) (0.6.0)\n",
      "Requirement already satisfied: python-dateutil<3.0.0,>=2.1 in /opt/conda/lib/python3.10/site-packages (from botocore<1.30.0,>=1.29.121->boto3->-r requirements.txt (line 2)) (2.8.2)\n",
      "Requirement already satisfied: six>=1.5 in /opt/conda/lib/python3.10/site-packages (from python-dateutil<3.0.0,>=2.1->botocore<1.30.0,>=1.29.121->boto3->-r requirements.txt (line 2)) (1.16.0)\n"
     ]
    }
   ],
   "source": [
    "import sys\n",
    "import subprocess\n",
    "\n",
    "exit_code = subprocess.check_call([sys.executable, \"-m\", \"pip\", \"install\", \"-r\", \"requirements.txt\"])\n",
    "if exit_code:\n",
    "    raise Exception(\"Non-zero return code when installing the dependencies, please try reinstalling them manually\")"
   ]
  },
  {
   "cell_type": "code",
   "execution_count": null,
   "id": "5dbb3ea9-34f5-4609-bbf0-5b20b480b9c3",
   "metadata": {},
   "outputs": [],
   "source": [
    "*** Adding main variables ***"
   ]
  },
  {
   "cell_type": "code",
   "execution_count": 29,
   "id": "be994c35-ba83-4e90-97a6-805deeaaeb95",
   "metadata": {
    "tags": []
   },
   "outputs": [],
   "source": [
    "import boto3\n",
    "\n",
    "ami_id = \"ami-0f1678fc793fca458\"\n",
    "\n",
    "ec2_client = boto3.client(\"ec2\", \"eu-central-1\")"
   ]
  },
  {
   "cell_type": "code",
   "execution_count": null,
   "id": "2ba420b5-58e8-40b3-8f28-5da655f4a886",
   "metadata": {},
   "outputs": [],
   "source": [
    "*** Adding AMI id as a parameter ***"
   ]
  },
  {
   "cell_type": "code",
   "execution_count": 40,
   "id": "31e60a19-f838-461a-8bbb-24bf480274bb",
   "metadata": {
    "tags": []
   },
   "outputs": [
    {
     "name": "stdout",
     "output_type": "stream",
     "text": [
      "{'Version': 6, 'Tier': 'Standard', 'ResponseMetadata': {'RequestId': '265659f9-55eb-46dc-9962-3cff2d5eb142', 'HTTPStatusCode': 200, 'HTTPHeaders': {'server': 'Server', 'date': 'Thu, 27 Apr 2023 18:46:44 GMT', 'content-type': 'application/x-amz-json-1.1', 'content-length': '31', 'connection': 'keep-alive', 'x-amzn-requestid': '265659f9-55eb-46dc-9962-3cff2d5eb142'}, 'RetryAttempts': 0}}\n"
     ]
    }
   ],
   "source": [
    "ssm_client = boto3.client(\"ssm\", \"eu-central-1\")\n",
    "\n",
    "param_name = \"/hillel-hw15/ami-id\"\n",
    "param_description = \"The AMI id from Packer for HW15\"\n",
    "param_type = \"String\"\n",
    "\n",
    "ami_id_str = str(ami_id)\n",
    "param_value = ami_id_str\n",
    "\n",
    "output = ssm_client.put_parameter(\n",
    "    Name=param_name,\n",
    "    Description=param_description,\n",
    "    Value=param_value,\n",
    "    Type=param_type,\n",
    "    Overwrite=True,\n",
    ")\n",
    "\n",
    "print(output)"
   ]
  },
  {
   "cell_type": "code",
   "execution_count": null,
   "id": "93bc215b-336b-4072-91b0-2f45d1f61342",
   "metadata": {},
   "outputs": [],
   "source": [
    "*** Creating security group ***"
   ]
  },
  {
   "cell_type": "code",
   "execution_count": 31,
   "id": "ff476d4c-9254-4eb6-9b5b-7fdd57bbf0b8",
   "metadata": {},
   "outputs": [
    {
     "name": "stdout",
     "output_type": "stream",
     "text": [
      "sg-0f42cfd8599fd39d8\n"
     ]
    }
   ],
   "source": [
    "security_group_name = \"hw15-security-group\"\n",
    "security_group_description = \"Group for HW15 with opened port 8081\"\n",
    "\n",
    "output = ec2_client.create_security_group(\n",
    "    GroupName=security_group_name,\n",
    "    Description=security_group_description\n",
    ")\n",
    "\n",
    "group_id = output[\"GroupId\"]\n",
    "print(group_id)"
   ]
  },
  {
   "cell_type": "code",
   "execution_count": null,
   "id": "7f01564e-7827-45fe-857d-03b94de76d6d",
   "metadata": {},
   "outputs": [],
   "source": [
    "*** Adding incoming rule for port 8081 ***"
   ]
  },
  {
   "cell_type": "code",
   "execution_count": 42,
   "id": "3d794453-74b7-40cc-9518-0dca25d80e70",
   "metadata": {
    "tags": []
   },
   "outputs": [
    {
     "data": {
      "text/plain": [
       "{'Return': True,\n",
       " 'SecurityGroupRules': [{'SecurityGroupRuleId': 'sgr-0325d7f5cf062c787',\n",
       "   'GroupId': 'sg-0f42cfd8599fd39d8',\n",
       "   'GroupOwnerId': '828516503329',\n",
       "   'IsEgress': False,\n",
       "   'IpProtocol': 'tcp',\n",
       "   'FromPort': 8081,\n",
       "   'ToPort': 8081,\n",
       "   'CidrIpv4': '0.0.0.0/0',\n",
       "   'Description': 'HTTP to port 8081'}],\n",
       " 'ResponseMetadata': {'RequestId': '2b149e0e-0b34-4875-b0cf-c0912eb880fc',\n",
       "  'HTTPStatusCode': 200,\n",
       "  'HTTPHeaders': {'x-amzn-requestid': '2b149e0e-0b34-4875-b0cf-c0912eb880fc',\n",
       "   'cache-control': 'no-cache, no-store',\n",
       "   'strict-transport-security': 'max-age=31536000; includeSubDomains',\n",
       "   'content-type': 'text/xml;charset=UTF-8',\n",
       "   'content-length': '780',\n",
       "   'date': 'Thu, 27 Apr 2023 18:47:38 GMT',\n",
       "   'server': 'AmazonEC2'},\n",
       "  'RetryAttempts': 0}}"
      ]
     },
     "execution_count": 42,
     "metadata": {},
     "output_type": "execute_result"
    }
   ],
   "source": [
    "ec2_client.authorize_security_group_ingress(\n",
    "    GroupId=group_id,\n",
    "    IpPermissions=[{\n",
    "        \"IpProtocol\": \"tcp\",\n",
    "        \"FromPort\": 8081,\n",
    "        \"ToPort\": 8081,\n",
    "        \"IpRanges\": [{\"CidrIp\": \"0.0.0.0/0\", \"Description\": \"HTTP to port 8081\"}]\n",
    "    }]\n",
    ")"
   ]
  },
  {
   "cell_type": "code",
   "execution_count": null,
   "id": "eddc62e5-daab-4dd9-8a96-a19483eaac2f",
   "metadata": {},
   "outputs": [],
   "source": [
    "*** Getting AMI image id as a parameter ***"
   ]
  },
  {
   "cell_type": "code",
   "execution_count": 43,
   "id": "74279f86-1991-4a70-90da-a075f5e03a6e",
   "metadata": {
    "tags": []
   },
   "outputs": [
    {
     "name": "stdout",
     "output_type": "stream",
     "text": [
      "ami-0f1678fc793fca458\n"
     ]
    }
   ],
   "source": [
    "ssm_parameter = ssm_client.get_parameter(Name=param_name)\n",
    "ami_id = ssm_parameter[\"Parameter\"][\"Value\"]\n",
    "\n",
    "print(ami_id)"
   ]
  },
  {
   "cell_type": "code",
   "execution_count": null,
   "id": "31d1be0a-9167-42e5-8051-ce9ad65f4ab2",
   "metadata": {},
   "outputs": [],
   "source": [
    "*** Launching instance ***"
   ]
  },
  {
   "cell_type": "code",
   "execution_count": 49,
   "id": "593fab6e-467e-4b07-a836-fce2b15e2b3e",
   "metadata": {
    "tags": []
   },
   "outputs": [
    {
     "name": "stdout",
     "output_type": "stream",
     "text": [
      "Launched instances with ids: i-0161063e1f6fe7df8\n",
      "Instances with ids: i-0161063e1f6fe7df8 are up and running\n"
     ]
    }
   ],
   "source": [
    "output = ec2_client.run_instances(\n",
    "  MaxCount=1,\n",
    "  MinCount=1,\n",
    "  InstanceType=\"t2.micro\",\n",
    "  ImageId=ami_id,\n",
    "  KeyName=\"Main SSH Key\",\n",
    "  SecurityGroupIds=[\n",
    "    group_id,\n",
    "  ],\n",
    ")\n",
    "\n",
    "instance_ids = list(map(lambda i : i.get(\"InstanceId\"), output.get(\"Instances\")))\n",
    "print(f\"Launched instances with ids: {' '.join(instance_ids)}\")\n",
    "\n",
    "jdun = ec2_client.get_waiter(\"instance_running\")\n",
    "jdun.wait(InstanceIds=instance_ids)\n",
    "print(f\"Instances with ids: {' '.join(instance_ids)} are up and running\")"
   ]
  },
  {
   "cell_type": "code",
   "execution_count": null,
   "id": "e5bf6f97-2c34-4717-afec-96471d6ce15f",
   "metadata": {},
   "outputs": [],
   "source": [
    "*** Getting instance IP ***"
   ]
  },
  {
   "cell_type": "code",
   "execution_count": 50,
   "id": "82909b09-60c3-4502-bbfb-5bbf2b0afa2c",
   "metadata": {
    "tags": []
   },
   "outputs": [
    {
     "name": "stdout",
     "output_type": "stream",
     "text": [
      "3.74.160.135\n"
     ]
    }
   ],
   "source": [
    "ec2_resource = boto3.resource(\"ec2\", \"eu-central-1\")\n",
    "instance = ec2_resource.Instance(\"i-0161063e1f6fe7df8\")\n",
    "print(instance.public_ip_address)"
   ]
  },
  {
   "cell_type": "code",
   "execution_count": null,
   "id": "3abac796-ff37-473f-ad84-bb514ab1ede1",
   "metadata": {},
   "outputs": [],
   "source": [
    "*** Terminate instance ***"
   ]
  },
  {
   "cell_type": "code",
   "execution_count": 51,
   "id": "3329123b-eb00-4fba-a29d-84931ce7fb5e",
   "metadata": {
    "tags": []
   },
   "outputs": [
    {
     "name": "stdout",
     "output_type": "stream",
     "text": [
      "Instances with ids: i-0161063e1f6fe7df8 are terminated\n"
     ]
    }
   ],
   "source": [
    "ec2_client.terminate_instances(InstanceIds=instance_ids)\n",
    "jdun = ec2_client.get_waiter(\"instance_terminated\")\n",
    "jdun.wait(InstanceIds=instance_ids)\n",
    "print(f\"Instances with ids: {' '.join(instance_ids)} are terminated\")"
   ]
  },
  {
   "cell_type": "code",
   "execution_count": null,
   "id": "85fe1627-ba84-4f87-baa5-c8bdce3633fa",
   "metadata": {},
   "outputs": [],
   "source": []
  }
 ],
 "metadata": {
  "kernelspec": {
   "display_name": "Python 3 (ipykernel)",
   "language": "python",
   "name": "python3"
  },
  "language_info": {
   "codemirror_mode": {
    "name": "ipython",
    "version": 3
   },
   "file_extension": ".py",
   "mimetype": "text/x-python",
   "name": "python",
   "nbconvert_exporter": "python",
   "pygments_lexer": "ipython3",
   "version": "3.10.10"
  }
 },
 "nbformat": 4,
 "nbformat_minor": 5
}
